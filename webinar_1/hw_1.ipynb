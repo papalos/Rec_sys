{
 "cells": [
  {
   "cell_type": "markdown",
   "metadata": {
    "id": "89mFQmjdo1gZ"
   },
   "source": [
    "# Вебинар 1. Введение, примеры задач, бизнес- и ML-метрики "
   ]
  },
  {
   "cell_type": "markdown",
   "metadata": {
    "id": "trQ6RNEto1g9"
   },
   "source": [
    "---"
   ]
  },
  {
   "cell_type": "code",
   "execution_count": 4,
   "metadata": {
    "id": "MDr2G6YIo1g_"
   },
   "outputs": [],
   "source": [
    "import pandas as pd\n",
    "import numpy as np"
   ]
  },
  {
   "cell_type": "markdown",
   "metadata": {
    "id": "8VrZhsIbo1ha"
   },
   "source": [
    "# ML-mетрики качества"
   ]
  },
  {
   "cell_type": "markdown",
   "metadata": {
    "id": "0dnPDNLYo1hc"
   },
   "source": [
    "*Хороши ли рекомендации, предлагаемые моделью?*  \n",
    "Обычно считаются для каждого юзера, затем усредняются по юзерам"
   ]
  },
  {
   "cell_type": "markdown",
   "metadata": {
    "id": "VrlXLSNao1he"
   },
   "source": [
    "Представим, что в магазине всего 10 товаров"
   ]
  },
  {
   "cell_type": "code",
   "execution_count": 17,
   "metadata": {
    "id": "bxqcDo_vo1hh"
   },
   "outputs": [],
   "source": [
    "recommended_list = [143, 156, 1134, 991, 27, 1543, 3345, 533, 11, 43] #id товаров, в порядке релевантности\n",
    "bought_list = [1543, 3345, 533, 11]"
   ]
  },
  {
   "cell_type": "markdown",
   "metadata": {
    "id": "IZ6mlwcSo1hn"
   },
   "source": [
    "### 1. Hit rate\n",
    "\n",
    "Hit rate = был ли хотя бы 1 релевантный товар среди рекомендованных\n",
    "\n",
    "- Иногда применяется, когда продаются достаточно дорогие товары (например, бытовая техника) \n",
    "\n",
    "----\n",
    "Hit rate = (был ли хотя бы 1 релевантный товар среди рекомендованных)   \n",
    "\n",
    "Hit rate@k = (был ли хотя бы 1 релевантный товар среди топ-k рекомендованных)"
   ]
  },
  {
   "cell_type": "code",
   "execution_count": 18,
   "metadata": {
    "id": "UdC9moeIo1ho"
   },
   "outputs": [],
   "source": [
    "def hit_rate(recommended_list, bought_list):\n",
    "    \n",
    "    bought_list = np.array(bought_list)\n",
    "    recommended_list = np.array(recommended_list)\n",
    "    \n",
    "    flags = np.isin(bought_list, recommended_list)\n",
    "    \n",
    "    hit_rate = (flags.sum() > 0) * 1\n",
    "    \n",
    "    return hit_rate\n",
    "\n",
    "# Функция для домашки\n",
    "def hit_rate_at_k(recommended_list, bought_list, k=5):\n",
    "           \n",
    "    return hit_rate(recommended_list[1:k], bought_list)"
   ]
  },
  {
   "cell_type": "code",
   "execution_count": 19,
   "metadata": {
    "id": "cQXLlorio1hs",
    "outputId": "1d1b69db-3909-4fe1-e600-e900847bb26d"
   },
   "outputs": [
    {
     "data": {
      "text/plain": [
       "1"
      ]
     },
     "execution_count": 19,
     "metadata": {},
     "output_type": "execute_result"
    }
   ],
   "source": [
    "hit_rate(recommended_list, bought_list)"
   ]
  },
  {
   "cell_type": "code",
   "execution_count": 20,
   "metadata": {},
   "outputs": [
    {
     "data": {
      "text/plain": [
       "0"
      ]
     },
     "execution_count": 20,
     "metadata": {},
     "output_type": "execute_result"
    }
   ],
   "source": [
    "hit_rate_at_k(recommended_list, bought_list)"
   ]
  },
  {
   "cell_type": "markdown",
   "metadata": {
    "id": "iwXCUigno1hy"
   },
   "source": [
    "### 2. Precision\n",
    "\n",
    "*Precision* - доля релевантных товаров среди рекомендованных = Какой % рекомендованных товаров  юзер купил\n",
    "\n",
    "- Пожалуй, самая приближенная к бизнес-метрикам и самая популярная метрика\n",
    "\n",
    "---\n",
    "\n",
    "Precision= (# of recommended items that are relevant) / (# of recommended items)  \n",
    "\n",
    "Precision@k = (# of recommended items @k that are relevant) / (# of recommended items @k)\n",
    "\n",
    "Money Precision@k = (revenue of recommended items @k that are relevant) / (revenue of recommended items @k)  \n",
    "\n",
    "**Note:** Обычно k в precision@k достаточно невелико (5-20) и определяется из бизнес-логики. Например, 5 товаров в e-mail рассылке, 20 ответов на первой странице google и т.д"
   ]
  },
  {
   "cell_type": "markdown",
   "metadata": {
    "id": "WvSzvvmMo1hz"
   },
   "source": [
    "Красная рыба - 400 руб  \n",
    "Молоко - 60 руб  \n",
    "Хлеб = 40 руб  \n",
    "Гречка = 40 руб  \n",
    "Шоколад = 90 руб  \n",
    "\n",
    "------  \n",
    "Варенье - 240 руб  \n",
    "...  \n",
    "\n",
    "**Case 1**  \n",
    "prices_resommended = [400, 60, 40, 40 , 90]  \n",
    "flags = [1, 0, 0, 0 , 1]  \n",
    "\n",
    "$precison@5 = \\frac{1 + 0 + 0 +0 + 1}{1+1+1+1+1} = 40\\%$  \n",
    "$money precision@5 = \\frac{1*400 + 0*60 + ... + 1*90}{1*400 + 1*60 + ... + 1*90} = 77.7\\%$  \n",
    "\n",
    "  \n",
    "**Case 2**   \n",
    "prices_resommended = [400, 60, 40, 40 , 90]  \n",
    "flags = [0, 1, 0, 0 , 1]  \n",
    "\n",
    "$precison@5 = \\frac{0 + 1 + 0 +0 + 1}{1+1+1+1+1} = 40\\%$  \n",
    "$money precision@5 = \\frac{0*400 + 1*60 + ... + 1*90}{1*400 + 1*60 + ... + 1*90} = 15.8\\%$"
   ]
  },
  {
   "cell_type": "code",
   "execution_count": 29,
   "metadata": {
    "id": "bDZRoYivo1h1"
   },
   "outputs": [],
   "source": [
    "def precision(recommended_list, bought_list):\n",
    "    \n",
    "    bought_list = np.array(bought_list)\n",
    "    recommended_list = np.array(recommended_list)\n",
    "    \n",
    "    flags = np.isin(bought_list, recommended_list)\n",
    "    \n",
    "    precision = flags.sum() / len(recommended_list)\n",
    "    \n",
    "    return precision\n",
    "\n",
    "\n",
    "def precision_at_k(recommended_list, bought_list, k=5):\n",
    "    \n",
    "    bought_list = np.array(bought_list)\n",
    "    recommended_list = np.array(recommended_list)\n",
    "    \n",
    "    bought_list = bought_list  # Тут нет [:k] !!\n",
    "    recommended_list = recommended_list[:k]\n",
    "    \n",
    "    flags = np.isin(recommended_list, bought_list)\n",
    "    \n",
    "    precision = flags.sum() / len(recommended_list)\n",
    "    \n",
    "    \n",
    "    return precision\n",
    "\n",
    "\n",
    "# Функция для домашки\n",
    "\n",
    "def money_precision_at_k(recommended_list, bought_list, prices_recommended, k=5):\n",
    "        \n",
    "    bought_list = np.array(bought_list)\n",
    "    recommended_list = np.array(recommended_list[:k])\n",
    "        \n",
    "    flags = np.isin(recommended_list, bought_list)*prices_recommended[:k]\n",
    "    \n",
    "    precision = flags.sum() / sum(prices_recommended[:k])\n",
    "    \n",
    "    return precision"
   ]
  },
  {
   "cell_type": "code",
   "execution_count": 30,
   "metadata": {
    "id": "rfL2QSH1o1h5",
    "outputId": "684a2322-c696-4183-8ff9-bc3bec2be345"
   },
   "outputs": [
    {
     "data": {
      "text/plain": [
       "0.4"
      ]
     },
     "execution_count": 30,
     "metadata": {},
     "output_type": "execute_result"
    }
   ],
   "source": [
    "precision(recommended_list, bought_list)"
   ]
  },
  {
   "cell_type": "code",
   "execution_count": 31,
   "metadata": {
    "id": "CyA_YiPLo1h9",
    "outputId": "be47973e-8017-40ad-8b3b-7bf5a6d963df"
   },
   "outputs": [
    {
     "data": {
      "text/plain": [
       "0.0"
      ]
     },
     "execution_count": 31,
     "metadata": {},
     "output_type": "execute_result"
    }
   ],
   "source": [
    "precision_at_k(recommended_list, bought_list, k=5)"
   ]
  },
  {
   "cell_type": "code",
   "execution_count": 32,
   "metadata": {
    "id": "35CJV2C7o1iB",
    "outputId": "f0a6558e-af43-400c-d42c-c65197d3336d"
   },
   "outputs": [
    {
     "data": {
      "text/plain": [
       "0.0"
      ]
     },
     "execution_count": 32,
     "metadata": {},
     "output_type": "execute_result"
    }
   ],
   "source": [
    "precision_at_k(recommended_list, bought_list, k=3)"
   ]
  },
  {
   "cell_type": "markdown",
   "metadata": {},
   "source": [
    "#### Тест"
   ]
  },
  {
   "cell_type": "code",
   "execution_count": 35,
   "metadata": {},
   "outputs": [
    {
     "data": {
      "text/plain": [
       "0.38632949424136204"
      ]
     },
     "execution_count": 35,
     "metadata": {},
     "output_type": "execute_result"
    }
   ],
   "source": [
    "prices_recommended = [100, 90, 120, 50, 200, 70, 150, 180, 210, 30] \n",
    "money_precision_at_k(recommended_list, bought_list, prices_recommended, k=6)"
   ]
  },
  {
   "cell_type": "markdown",
   "metadata": {
    "id": "NfVd3dnCo1iN"
   },
   "source": [
    "### 3. Recall\n",
    "\n",
    "*Recall* - доля рекомендованных товаров среди релевантных = Какой % купленных товаров был среди рекомендованных\n",
    "\n",
    "- Обычно используется для моделей пре-фильтрации товаров (убрать те товары, которые точно не будем рекомендовать)\n",
    "\n",
    "---\n",
    "\n",
    "Recall= (# of recommended items that are relevant) / (# of relevant items)  \n",
    "\n",
    "Recall@k = (# of recommended items @k that are relevant) / (# of relevant items)\n",
    "\n",
    "Money Recall@k = (revenue of recommended items @k that are relevant) / (revenue of relevant items)  \n",
    "\n",
    "    \n",
    "  \n",
    "**Note:** в recall@k число k обычно достаточно большое (50-200), больше чем покупок у среднестатистического юзера"
   ]
  },
  {
   "cell_type": "code",
   "execution_count": 13,
   "metadata": {
    "id": "g2sl_HTfo1iS"
   },
   "outputs": [],
   "source": [
    "def recall(recommended_list, bought_list):\n",
    "    \n",
    "    bought_list = np.array(bought_list)\n",
    "    recommended_list = np.array(recommended_list)\n",
    "    \n",
    "    flags = np.isin(bought_list, recommended_list)\n",
    "    \n",
    "    recall = flags.sum() / len(bought_list)\n",
    "    \n",
    "    return recall\n",
    "\n",
    "\n",
    "\n",
    "# Функции для домашки\n",
    "def recall_at_k(recommended_list, bought_list, k=5):\n",
    "    \n",
    "    return recall(recommended_list[:k], bought_list)\n",
    "\n",
    "\n",
    "def money_recall_at_k(recommended_list, bought_list, prices_recommended, prices_bought, k=5):\n",
    "    \n",
    "    bought_list = np.array(bought_list)\n",
    "    recommended_list = np.array(recommended_list[:k])\n",
    "        \n",
    "    flags = np.isin(recommended_list, bought_list)*prices_recommended[:k]\n",
    "    \n",
    "    recall = flags.sum() / sum(prices_bought)\n",
    "    \n",
    "    return recall"
   ]
  },
  {
   "cell_type": "code",
   "execution_count": 14,
   "metadata": {
    "id": "kd4I_xqvo1iX",
    "outputId": "2e90ab42-c647-4087-c536-454d10f5f305"
   },
   "outputs": [
    {
     "data": {
      "text/plain": [
       "0.5"
      ]
     },
     "execution_count": 14,
     "metadata": {},
     "output_type": "execute_result"
    }
   ],
   "source": [
    "recall(recommended_list, bought_list)"
   ]
  },
  {
   "cell_type": "markdown",
   "metadata": {
    "id": "A-9Go3EOo1ib"
   },
   "source": [
    "---"
   ]
  },
  {
   "cell_type": "markdown",
   "metadata": {
    "id": "p06Ri8-go1ic"
   },
   "source": [
    "# Метрики ранжирования"
   ]
  },
  {
   "cell_type": "markdown",
   "metadata": {
    "id": "Rnd4DCp5o1id"
   },
   "source": [
    "Если важен порядок рекомендаций. Подробнее можно почитать [здесь](https://habr.com/ru/company/econtenta/blog/303458/). Формулы в статье могут несколько отличаться от формул в лекции "
   ]
  },
  {
   "cell_type": "markdown",
   "metadata": {
    "id": "F95YT0wwo1id"
   },
   "source": [
    "## AP@K\n",
    "AP@K - average precision at k\n",
    "\n",
    "$$AP@K = \\frac{1}{K} \\sum_{k=1}^{K}{[recommended_{relevant_k}] * precision@k}$$\n",
    "\n",
    "- Суммируем по всем релевантным товарам\n",
    "- Зависит от порядка реокмендаций"
   ]
  },
  {
   "cell_type": "code",
   "execution_count": null,
   "metadata": {},
   "outputs": [],
   "source": [
    "1/3 * (0+0+1/3)\n",
    "1/3 * (1+0+0)"
   ]
  },
  {
   "cell_type": "code",
   "execution_count": null,
   "metadata": {
    "id": "HfAfQgGRo1ie"
   },
   "outputs": [],
   "source": [
    "def ap_k(recommended_list, bought_list, k=5):\n",
    "    \n",
    "    bought_list = np.array(bought_list)\n",
    "    recommended_list = np.array(recommended_list)\n",
    "    \n",
    "    flags = np.isin(recommended_list, bought_list)\n",
    "    \n",
    "    if sum(flags) == 0:\n",
    "        return 0\n",
    "    \n",
    "    sum_ = 0\n",
    "    for i in range(1, k+1):\n",
    "        \n",
    "        if flags[i] == True:\n",
    "            p_k = precision_at_k(recommended_list, bought_list, k=i)\n",
    "            sum_ += p_k\n",
    "            \n",
    "    result = sum_ / k\n",
    "    \n",
    "    return result"
   ]
  },
  {
   "cell_type": "markdown",
   "metadata": {
    "id": "GyKVp_A_o1ip"
   },
   "source": [
    "### MAP@k\n",
    "\n",
    "MAP@k (Mean Average Precision@k)  \n",
    "Среднее AP@k по всем юзерам\n",
    "- Показывает средневзвешенную точность рекомендаций\n",
    "\n",
    "$$MAP@k = \\frac{1}{|U|} \\sum_u{AP_k}$$\n",
    "  \n",
    "|U| - кол-во юзеров"
   ]
  },
  {
   "cell_type": "code",
   "execution_count": null,
   "metadata": {
    "id": "heZq-3_Vo1iq"
   },
   "outputs": [],
   "source": [
    "# Функция для домашки\n",
    "def map_k(total_recommended_list, total_bought_list, k=5):\n",
    "    # списки total_ представляют собой массивы массивов,\n",
    "    # где элементом является массив рекомендаций и покупок на каждого юзера\n",
    "    # оба массива total_ имеют одинаковоую длину ко поличеству юзеров\n",
    "    num = len(total_recommended_list)\n",
    "    list_AP_at_k = [ap_k(total_recommended_list[i], total_bought_list[i], k=5) for i in range(num)]\n",
    "    result = sum(list_AP_at_k)/num\n",
    "    return result"
   ]
  },
  {
   "cell_type": "markdown",
   "metadata": {
    "id": "Ziy893rxo1iw"
   },
   "source": [
    "### AUC@k\n",
    "AUC для первых k наблюдений  \n",
    "- Можно посчитать как sklern.metrics.roc_auc_score для топ-k предсказаний\n",
    "- Показывает долю верно отранжированных товаров"
   ]
  },
  {
   "cell_type": "markdown",
   "metadata": {
    "id": "-aRUBub7o1ix"
   },
   "source": [
    "### NDCG@k\n",
    "Normalized discounted cumulative gain\n",
    "\n",
    "$$DCG = \\frac{1}{|r|} \\sum_u{\\frac{[bought fact]}{discount(i)}}$$  \n",
    "\n",
    "$discount(i) = 1$ if $i <= 2$,   \n",
    "$discount(i) = log_2(i)$ if $i > 2$\n",
    "\n",
    "\n",
    "(!) Считаем для первых k рекоммендаций   \n",
    "(!) - существуют вариации с другими $discount(i)$  \n",
    "i - ранк рекомендованного товара  \n",
    "|r| - кол-во рекомендованных товаров \n",
    "\n",
    "$$NDCG = \\frac{DCG}{ideal DCG}$$\n"
   ]
  },
  {
   "cell_type": "code",
   "execution_count": null,
   "metadata": {
    "id": "njQIUE-xo1iy"
   },
   "outputs": [],
   "source": [
    "recommended_list = [143, 156, 1134, 991, 27, 1543, 3345, 533, 11, 43] #id товаров\n",
    "bought_list = [521, 32, 143, 991]"
   ]
  },
  {
   "cell_type": "markdown",
   "metadata": {
    "id": "zHpCD4lKo1i1"
   },
   "source": [
    "$DCG@5 = \\frac{1}{5}*(1 / 1 + 0 / 2 + 0 / log(3) + 1 / log(4) + 0 / log(5))$  \n",
    "$ideal DCG@5 = \\frac{1}{5}*(1 / 1 + 1 / 2 + 1 / log(3) + 1 / log(4) + 1 / log(5))$  \n",
    "\n",
    "$NDCG = \\frac{DCG}{ideal DCG}$"
   ]
  },
  {
   "cell_type": "markdown",
   "metadata": {
    "id": "T7Y-Jtcdo1i6"
   },
   "source": [
    "### MRR@k\n",
    "Mean Reciprocal Rank\n",
    "\n",
    "- Считаем для первых k рекоммендаций\n",
    "- Найти ранк первого релевантного предсказания $k_u$\n",
    "- Посчитать reciprocal rank = $\\frac{1}{k_u}$\n",
    "\n",
    "$$MRR = mean(\\frac{1}{k_u})$$"
   ]
  },
  {
   "cell_type": "code",
   "execution_count": 51,
   "metadata": {
    "id": "i56NVR0Qo1i6"
   },
   "outputs": [],
   "source": [
    "# Функция для домашки\n",
    "def reciprocal_rank(recommended_list, bought_list):\n",
    "    bought_list = np.array(bought_list)\n",
    "    recommended_list = np.array(recommended_list)\n",
    "        \n",
    "    flags = np.isin(recommended_list, bought_list)\n",
    "    \n",
    "    result = 1 / (np.where(flags==True)[0][0]+1)\n",
    "    return result"
   ]
  },
  {
   "cell_type": "code",
   "execution_count": 53,
   "metadata": {},
   "outputs": [
    {
     "data": {
      "text/plain": [
       "0.16666666666666666"
      ]
     },
     "execution_count": 53,
     "metadata": {},
     "output_type": "execute_result"
    }
   ],
   "source": [
    "reciprocal_rank(recommended_list, bought_list)"
   ]
  },
  {
   "cell_type": "markdown",
   "metadata": {},
   "source": [
    "## Домашнее задание"
   ]
  },
  {
   "cell_type": "markdown",
   "metadata": {},
   "source": [
    "**1. Приведите другие примеры метрик для оценки качества ранжирования и рекомендательных систем (свои знания, статьи из интернета, whatever)**\n",
    "<br>Свои знания отсутствуют, более вменяемых статей чем приведенные в доп.материале не нашел\n",
    "\n",
    "**2. Доделайте метрики из этого ноутбука (смотрите пометки #your_code)**\n",
    "<br>Требуемые функции определены выше по документу, помечены как # Функция для домашки"
   ]
  },
  {
   "cell_type": "code",
   "execution_count": null,
   "metadata": {},
   "outputs": [],
   "source": []
  }
 ],
 "metadata": {
  "colab": {
   "name": "webinar_1.ipynb",
   "provenance": []
  },
  "kernelspec": {
   "display_name": "Python 3",
   "language": "python",
   "name": "python3"
  },
  "language_info": {
   "codemirror_mode": {
    "name": "ipython",
    "version": 3
   },
   "file_extension": ".py",
   "mimetype": "text/x-python",
   "name": "python",
   "nbconvert_exporter": "python",
   "pygments_lexer": "ipython3",
   "version": "3.8.3"
  }
 },
 "nbformat": 4,
 "nbformat_minor": 1
}
